{
 "metadata": {
  "language_info": {
   "codemirror_mode": {
    "name": "ipython",
    "version": 3
   },
   "file_extension": ".py",
   "mimetype": "text/x-python",
   "name": "python",
   "nbconvert_exporter": "python",
   "pygments_lexer": "ipython3",
   "version": "3.7.4"
  },
  "orig_nbformat": 2,
  "kernelspec": {
   "name": "python3",
   "display_name": "Python 3",
   "language": "python"
  }
 },
 "nbformat": 4,
 "nbformat_minor": 2,
 "cells": [
  {
   "cell_type": "code",
   "execution_count": 1,
   "metadata": {},
   "outputs": [],
   "source": [
    "import tensorflow as tf"
   ]
  },
  {
   "cell_type": "code",
   "execution_count": null,
   "metadata": {},
   "outputs": [],
   "source": [
    "X = tf.placeholder(tf.float32, shape=[1, 2])\n",
    "Y = tf.placeholder(tf.float32, shape=[1, 1])"
   ]
  },
  {
   "cell_type": "code",
   "execution_count": null,
   "metadata": {},
   "outputs": [],
   "source": [
    "W1 = tf.Variable(tf.zeros([2, 2]))\n",
    "B1 = tf.Variable(tf.zeros([2]))\n",
    "Z = tf.sigmoid(tf.matmul(X, W1) + B1)"
   ]
  },
  {
   "cell_type": "code",
   "execution_count": null,
   "metadata": {},
   "outputs": [],
   "source": [
    "\n",
    "W2 = tf.Variable(tf.zeros([2, 1]))\n",
    "B2 = tf.Variable(tf.zeros([1]))\n",
    "Y_hat = tf.sigmoid(tf.matmul(Z, W2) + B2)"
   ]
  },
  {
   "cell_type": "code",
   "execution_count": null,
   "metadata": {},
   "outputs": [],
   "source": [
    "\n",
    "loss = tf.reduce_mean(-1*((Y*tf.log(Y_hat))+((1-Y)*tf.log(1.0-Y_hat))))\n",
    "\n",
    "train_step = tf.train.GradientDescentOptimizer(0.2).minimize(loss)\n",
    "\n",
    "train_X = [[0, 1]]\n",
    "train_Y = [[1]]\n",
    "\n",
    "\n",
    "init = tf.global_variables_initializer()"
   ]
  },
  {
   "cell_type": "code",
   "execution_count": null,
   "metadata": {},
   "outputs": [],
   "source": [
    "with tf.Session() as sess:\n",
    "    sess.run(init)\n",
    "    print(\"train data: \"+str(train_X))\n",
    "    for i in range(100):\n",
    "        sess.run(train_step, feed_dict={X: train_X, Y: train_Y})         \n",
    "\n",
    "        print('Epoch : ', i)\n",
    "        W_one = sess.run(W1)\n",
    "        W_two = sess.run(W2)\n",
    "        B_one = sess.run(B1)\n",
    "        B_two = sess.run(B2)\n",
    "        print('Weight of the 1 layer',W_one)\n",
    "        print('Weight of the 2 layer',W_two)\n",
    "        print('Bias of the 1 layer',B_one)\n",
    "        print('Bias of the 2 layer',W_two)\n",
    "        \n",
    "        print('Output : ', sess.run(\n",
    "            Y_hat, feed_dict={X: train_X, Y: train_Y}))\n",
    "\n",
    "    print('Final Output : ', sess.run(\n",
    "        Y_hat, feed_dict={X: train_X, Y: train_Y}))"
   ]
  }
 ]
}